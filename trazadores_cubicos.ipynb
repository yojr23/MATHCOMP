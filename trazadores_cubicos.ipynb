{
  "nbformat": 4,
  "nbformat_minor": 0,
  "metadata": {
    "colab": {
      "provenance": []
    },
    "kernelspec": {
      "name": "python3",
      "display_name": "Python 3"
    },
    "language_info": {
      "name": "python"
    }
  },
  "cells": [
    {
      "cell_type": "code",
      "execution_count": 1,
      "metadata": {
        "id": "FtduhrbKH1i8"
      },
      "outputs": [],
      "source": [
        "import numpy as np\n",
        "from scipy.interpolate import CubicSpline"
      ]
    },
    {
      "cell_type": "code",
      "source": [
        "# Datos proporcionados\n",
        "x_points = [0, 1, 2, 3, 4]\n",
        "y_points = [1, 0.9, -1, -2.3, 1.8]\n",
        "\n",
        "# Crear el trazador cúbico\n",
        "spline = CubicSpline(x_points, y_points)\n",
        "\n",
        "# Evaluar el trazador en x = 0.5\n",
        "value_at_0_5 = spline(0.5)\n",
        "\n",
        "print(\"El valor del trazador cúbico en x = 0.5 es:\", value_at_0_5)\n"
      ],
      "metadata": {
        "id": "4rxexVa8H9Ns",
        "outputId": "60a0c06c-43d6-41e6-9605-b0d05f121d1e",
        "colab": {
          "base_uri": "https://localhost:8080/"
        }
      },
      "execution_count": 2,
      "outputs": [
        {
          "output_type": "stream",
          "name": "stdout",
          "text": [
            "El valor del trazador cúbico en x = 0.5 es: 1.2875000000000003\n"
          ]
        }
      ]
    }
  ]
}