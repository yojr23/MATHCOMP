{
  "nbformat": 4,
  "nbformat_minor": 0,
  "metadata": {
    "colab": {
      "provenance": []
    },
    "kernelspec": {
      "name": "python3",
      "display_name": "Python 3"
    },
    "language_info": {
      "name": "python"
    }
  },
  "cells": [
    {
      "cell_type": "code",
      "source": [
        "\n",
        "import numpy as np\n",
        "import pandas as pd\n",
        "from sklearn.linear_model import LinearRegression\n",
        "from scipy.stats import pearsonr\n"
      ],
      "metadata": {
        "id": "rEmzvE_u8Xmk"
      },
      "execution_count": 1,
      "outputs": []
    },
    {
      "cell_type": "code",
      "execution_count": 3,
      "metadata": {
        "colab": {
          "base_uri": "https://localhost:8080/"
        },
        "id": "86oMOXzY8UGt",
        "outputId": "a4dbfb51-0772-4caa-b8cb-0cafd6631564"
      },
      "outputs": [
        {
          "output_type": "stream",
          "name": "stdout",
          "text": [
            "Intercepto: 3.4351063829787227\n",
            "Coeficientes: [-1.03546099  0.51241135]\n",
            "Coeficiente de correlación (r): 0.9232434782326037\n"
          ]
        }
      ],
      "source": [
        "\n",
        "# Definir los datos\n",
        "data = {\n",
        "    'x1': [1, 1, 2, 3, 1, 1, 2, 3, 3],\n",
        "    'x2': [-1, 0, 0, 1, 1, 2, 2, 2, 0],\n",
        "    'y': [1.6, 3, 1.1, 1.2, 3.2, 3.3, 1.7, 1.7, 0.1]\n",
        "}\n",
        "\n",
        "df = pd.DataFrame(data)\n",
        "\n",
        "# Variables independientes (x1, x2) y dependiente (y)\n",
        "X = df[['x1', 'x2']]\n",
        "y = df['y']\n",
        "\n",
        "# Crear el modelo de regresión lineal múltiple\n",
        "model = LinearRegression()\n",
        "model.fit(X, y)\n",
        "\n",
        "# Coeficientes de la regresión\n",
        "intercept = model.intercept_\n",
        "coefficients = model.coef_\n",
        "\n",
        "print(\"Intercepto:\", intercept)\n",
        "print(\"Coeficientes:\", coefficients)\n",
        "\n",
        "# Predicciones y cálculo del coeficiente de correlación\n",
        "y_pred = model.predict(X)\n",
        "correlation, _ = pearsonr(y, y_pred)\n",
        "\n",
        "print(\"Coeficiente de correlación (r):\", correlation)\n",
        "\n",
        "\n"
      ]
    }
  ]
}