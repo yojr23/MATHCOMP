{
  "nbformat": 4,
  "nbformat_minor": 0,
  "metadata": {
    "colab": {
      "provenance": []
    },
    "kernelspec": {
      "name": "python3",
      "display_name": "Python 3"
    },
    "language_info": {
      "name": "python"
    }
  },
  "cells": [
    {
      "cell_type": "code",
      "execution_count": 1,
      "metadata": {
        "id": "0wbuCASxBaT_"
      },
      "outputs": [],
      "source": [
        "import numpy as np\n",
        "from sympy import symbols, simplify\n"
      ]
    },
    {
      "cell_type": "code",
      "source": [
        "# Datos de la tabla\n",
        "x_values = [0, 1, 2, 3, 4]\n",
        "f_values = [0.5, 0.1, 1, 2.1, 2.4]\n",
        "\n",
        "# Crear la función de interpolación de Lagrange\n",
        "def lagrange_interpolation(x, y, grado):\n",
        "    n = len(x)\n",
        "    polinomio = 0\n",
        "    x_symbol = symbols('x')\n",
        "\n",
        "    for i in range(grado + 1):\n",
        "        term = 1\n",
        "        for j in range(grado + 1):\n",
        "            if i != j:\n",
        "                term *= (x_symbol - x[j]) / (x[i] - x[j])\n",
        "        polinomio += term * y[i]\n",
        "\n",
        "    return simplify(polinomio)\n",
        "\n",
        "# Polinomios para grados 1, 2 y 3\n",
        "polinomio_grado1 = lagrange_interpolation(x_values, f_values, 1)\n",
        "polinomio_grado2 = lagrange_interpolation(x_values, f_values, 2)\n",
        "polinomio_grado3 = lagrange_interpolation(x_values, f_values, 3)\n",
        "\n",
        "# Evaluar los polinomios en x=2.5\n",
        "x_symbol = symbols('x')\n",
        "f_2_5_grado1 = polinomio_grado1.subs(x_symbol, 2.5)\n",
        "f_2_5_grado2 = polinomio_grado2.subs(x_symbol, 2.5)\n",
        "f_2_5_grado3 = polinomio_grado3.subs(x_symbol, 2.5)\n",
        "\n",
        "print(\"Polinomio de grado 1:\", polinomio_grado1)\n",
        "print(\"f(2.5) para grado 1:\", f_2_5_grado1)\n",
        "\n",
        "print(\"Polinomio de grado 2:\", polinomio_grado2)\n",
        "print(\"f(2.5) para grado 2:\", f_2_5_grado2)\n",
        "\n",
        "print(\"Polinomio de grado 3:\", polinomio_grado3)\n",
        "print(\"f(2.5) para grado 3:\", f_2_5_grado3)"
      ],
      "metadata": {
        "colab": {
          "base_uri": "https://localhost:8080/"
        },
        "id": "p254tVDuB0Qr",
        "outputId": "30670e24-481c-44ad-b3e6-2cf0bed73584"
      },
      "execution_count": 2,
      "outputs": [
        {
          "output_type": "stream",
          "name": "stdout",
          "text": [
            "Polinomio de grado 1: 0.5 - 0.4*x\n",
            "f(2.5) para grado 1: -0.500000000000000\n",
            "Polinomio de grado 2: 0.65*x**2 - 1.05*x + 0.5\n",
            "f(2.5) para grado 2: 1.93750000000000\n",
            "Polinomio de grado 3: -0.183333333333333*x**3 + 1.2*x**2 - 1.41666666666667*x + 0.5\n",
            "f(2.5) para grado 3: 1.59375000000000\n"
          ]
        }
      ]
    }
  ]
}