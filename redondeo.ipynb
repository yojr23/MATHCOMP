{
  "nbformat": 4,
  "nbformat_minor": 0,
  "metadata": {
    "colab": {
      "provenance": []
    },
    "kernelspec": {
      "name": "python3",
      "display_name": "Python 3"
    },
    "language_info": {
      "name": "python"
    }
  },
  "cells": [
    {
      "cell_type": "code",
      "execution_count": 1,
      "metadata": {
        "id": "BERCJoyhKsH7"
      },
      "outputs": [],
      "source": [
        "import math\n"
      ]
    },
    {
      "cell_type": "code",
      "source": [
        "#quest 1\n",
        "\n",
        "def calculate_exp_negative_x_first_method(x, tol=1e-8):\n",
        "    term = 1  # Primer término de la serie\n",
        "    sum_series = term\n",
        "    n = 1  # Contador para el factorial\n",
        "    error = float('inf')\n",
        "    while error > tol:\n",
        "        term *= -x / n\n",
        "        sum_series += term\n",
        "        n += 1\n",
        "        if sum_series != 0:\n",
        "            error = abs(term / sum_series)\n",
        "    return sum_series, error, n - 1\n",
        "\n",
        "def calculate_exp_negative_x_second_method(x, tol=1e-8):\n",
        "    term = 1  # Primer término de la serie del denominador\n",
        "    sum_series = term\n",
        "    n = 1  # Contador para el factorial\n",
        "    error = float('inf')\n",
        "    while error > tol:\n",
        "        term *= x / n\n",
        "        sum_series += term\n",
        "        n += 1\n",
        "        if sum_series != 0:\n",
        "            error = abs(term / sum_series)\n",
        "    return 1 / sum_series, error, n - 1\n",
        "\n",
        "# Evaluación para x = 0.85\n",
        "x = 0.85\n",
        "\n",
        "result1, error1, iterations1 = calculate_exp_negative_x_first_method(x)\n",
        "result2, error2, iterations2 = calculate_exp_negative_x_second_method(x)\n",
        "\n",
        "print(\"Método 1: e^(-0.85) ≈\", result1)\n",
        "print(\"Error relativo aproximado:\", error1)\n",
        "print(\"Iteraciones:\", iterations1)\n",
        "\n",
        "print(\"\\nMétodo 2: e^(-0.85) ≈\", result2)\n",
        "print(\"Error relativo aproximado:\", error2)\n",
        "print(\"Iteraciones:\", iterations2)"
      ],
      "metadata": {
        "colab": {
          "base_uri": "https://localhost:8080/"
        },
        "id": "R1bLYUeoLlVF",
        "outputId": "77aebaf4-e109-4e0f-a179-5d56bc6b1871"
      },
      "execution_count": 2,
      "outputs": [
        {
          "output_type": "stream",
          "name": "stdout",
          "text": [
            "Método 1: e^(-0.85) ≈ 0.42741493167007283\n",
            "Error relativo aproximado: 9.808504026994762e-09\n",
            "Iteraciones: 11\n",
            "\n",
            "Método 2: e^(-0.85) ≈ 0.42741493200675057\n",
            "Error relativo aproximado: 1.7918520804118953e-09\n",
            "Iteraciones: 11\n"
          ]
        }
      ]
    },
    {
      "cell_type": "code",
      "source": [
        "#quest 2\n",
        "\n",
        "def taylor_approximation(f, df1, df2, x, h):\n",
        "    \"\"\"\n",
        "    Calcula la aproximación de Taylor de orden 0 a 2 y el residuo.\n",
        "\n",
        "    f: función original.\n",
        "    df1: primera derivada de la función.\n",
        "    df2: segunda derivada de la función.\n",
        "    x: valor inicial.\n",
        "    h: incremento.\n",
        "\n",
        "    Retorna la aproximación y el residuo.\n",
        "    \"\"\"\n",
        "    # Orden 0: f(x)\n",
        "    term_0 = f(x)\n",
        "\n",
        "    # Orden 1: f'(x)*h\n",
        "    term_1 = df1(x) * h\n",
        "\n",
        "    # Orden 2: (f''(x)*h^2)/2!\n",
        "    term_2 = (df2(x) * h**2) / 2\n",
        "\n",
        "    # Suma de los términos\n",
        "    approximation = term_0 + term_1 + term_2\n",
        "\n",
        "    # Valor exacto\n",
        "    exact_value = f(x + h)\n",
        "\n",
        "    # Residuos\n",
        "    residual = exact_value - approximation\n",
        "\n",
        "    return approximation, residual\n",
        "\n",
        "# Definimos la función y sus derivadas\n",
        "f = lambda x: x**4\n",
        "df1 = lambda x: 4*x**3\n",
        "df2 = lambda x: 12*x**2\n",
        "\n",
        "# Parámetros\n",
        "x = 1\n",
        "h = 0.125\n",
        "\n",
        "# Calcular la aproximación y el residuo\n",
        "approx, residual = taylor_approximation(f, df1, df2, x, h)\n",
        "\n",
        "print(\"Aproximación de Taylor de orden 2:\", approx)\n",
        "print(\"Residuo:\", residual)\n"
      ],
      "metadata": {
        "colab": {
          "base_uri": "https://localhost:8080/"
        },
        "id": "DZIZlkl3Llgq",
        "outputId": "dd4a590a-19b5-4d11-ab80-695cb0a1c87b"
      },
      "execution_count": 3,
      "outputs": [
        {
          "output_type": "stream",
          "name": "stdout",
          "text": [
            "Aproximación de Taylor de orden 2: 1.59375\n",
            "Residuo: 0.008056640625\n"
          ]
        }
      ]
    },
    {
      "cell_type": "code",
      "source": [
        "# quest 3.1\n",
        "\n",
        "def taylor_1():\n",
        "    # Definición de la función y derivadas\n",
        "    f = lambda x: 1.1*x**3 - 1.6*x**2 + 3*x - 5\n",
        "    df1 = lambda x: 3.3*x**2 - 3.2*x + 3\n",
        "    df2 = lambda x: 6.6*x - 3.2\n",
        "    df3 = lambda x: 6.6\n",
        "\n",
        "    x_base = 0.5\n",
        "    h = 0.6 - x_base\n",
        "\n",
        "    # Términos de la serie de Taylor hasta tercer orden\n",
        "    term_0 = f(x_base)\n",
        "    term_1 = df1(x_base) * h\n",
        "    term_2 = (df2(x_base) * h**2) / 2\n",
        "    term_3 = (df3(x_base) * h**3) / 6\n",
        "\n",
        "    # Aproximación por Taylor\n",
        "    taylor_approx = term_0 + term_1 + term_2 + term_3\n",
        "    print(f\"Aproximación usando Taylor: {taylor_approx}\")\n",
        "\n",
        "taylor_1()\n",
        "\n",
        "\n"
      ],
      "metadata": {
        "colab": {
          "base_uri": "https://localhost:8080/"
        },
        "id": "3zmp5RMILlpf",
        "outputId": "2c6cb33c-1f36-4844-d0a4-d005c990cc75"
      },
      "execution_count": 5,
      "outputs": [
        {
          "output_type": "stream",
          "name": "stdout",
          "text": [
            "Aproximación usando Taylor: -3.5383999999999998\n"
          ]
        }
      ]
    },
    {
      "cell_type": "code",
      "source": [
        "#quest 3.2\n",
        "\n",
        "\n",
        "def taylor_2():\n",
        "    # Definición de la función y derivadas\n",
        "    f = lambda x: 1.6*math.exp(x) - 4.2*x + 2.75\n",
        "    df1 = lambda x: 1.6*math.exp(x) - 4.2\n",
        "    df2 = lambda x: 1.6*math.exp(x)\n",
        "    df3 = lambda x: 1.6*math.exp(x)\n",
        "\n",
        "    x_base = 0.4\n",
        "    h = 0.45 - x_base\n",
        "\n",
        "    # Términos de la serie de Taylor hasta tercer orden\n",
        "    term_0 = f(x_base)\n",
        "    term_1 = df1(x_base) * h\n",
        "    term_2 = (df2(x_base) * h**2) / 2\n",
        "    term_3 = (df3(x_base) * h**3) / 6\n",
        "\n",
        "    # Aproximación por Taylor\n",
        "    taylor_approx = term_0 + term_1 + term_2 + term_3\n",
        "    print(f\"Aproximación usando Taylor: {taylor_approx}\")\n",
        "\n",
        "taylor_2()\n"
      ],
      "metadata": {
        "colab": {
          "base_uri": "https://localhost:8080/"
        },
        "id": "RSVMRLykMZQ3",
        "outputId": "1fc4265c-792d-43f0-bf31-187cb81247ae"
      },
      "execution_count": 4,
      "outputs": [
        {
          "output_type": "stream",
          "name": "stdout",
          "text": [
            "Aproximación usando Taylor: 3.369298868922538\n"
          ]
        }
      ]
    }
  ]
}