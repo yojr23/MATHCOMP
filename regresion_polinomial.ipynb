{
  "nbformat": 4,
  "nbformat_minor": 0,
  "metadata": {
    "colab": {
      "provenance": []
    },
    "kernelspec": {
      "name": "python3",
      "display_name": "Python 3"
    },
    "language_info": {
      "name": "python"
    }
  },
  "cells": [
    {
      "cell_type": "code",
      "execution_count": 1,
      "metadata": {
        "id": "3hWaqztjBufi"
      },
      "outputs": [],
      "source": [
        "\n",
        "import numpy as np\n",
        "import pandas as pd\n",
        "from scipy.stats import pearsonr\n"
      ]
    },
    {
      "cell_type": "code",
      "source": [
        "\n",
        "# Definir los datos\n",
        "data = {\n",
        "    'x': [0, 1, 2, 3, 4, 5, 6],\n",
        "    'y': [-0.9, 0, 2, 4.5, 8.3, 13, 18]\n",
        "}\n",
        "\n",
        "df = pd.DataFrame(data)\n",
        "\n",
        "# Variables independientes (x) y dependiente (y)\n",
        "x = df['x']\n",
        "y = df['y']\n",
        "\n",
        "# Ajuste de un polinomio de segundo grado\n",
        "coefficients = np.polyfit(x, y, 2)\n",
        "polynomial = np.poly1d(coefficients)\n",
        "\n",
        "# Predicciones\n",
        "y_pred = polynomial(x)\n",
        "\n",
        "# Cálculo del coeficiente de correlación\n",
        "correlation, _ = pearsonr(y, y_pred)\n",
        "\n",
        "print(\"Coeficientes del polinomio (a, b, c):\", coefficients)\n",
        "print(\"Coeficiente de correlación (r):\", correlation)\n"
      ],
      "metadata": {
        "colab": {
          "base_uri": "https://localhost:8080/"
        },
        "id": "iEVJhEYrB5-i",
        "outputId": "59f33f3d-a9c4-4da2-b783-f61a1985581d"
      },
      "execution_count": 2,
      "outputs": [
        {
          "output_type": "stream",
          "name": "stdout",
          "text": [
            "Coeficientes del polinomio (a, b, c): [ 0.43571429  0.56428571 -0.94285714]\n",
            "Coeficiente de correlación (r): 0.9998183947032745\n"
          ]
        }
      ]
    }
  ]
}